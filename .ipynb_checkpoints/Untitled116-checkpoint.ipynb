{
 "cells": [
  {
   "cell_type": "code",
   "execution_count": 1,
   "id": "e06de8e0",
   "metadata": {},
   "outputs": [],
   "source": [
    "import pandas as pd\n",
    "import numpy as np\n",
    "import seaborn as sns\n",
    "import matplotlib.pyplot as plt\n",
    "%matplotlib inline\n",
    "import warnings\n",
    "warnings.filterwarnings(\"ignore\")\n",
    "from sklearn.preprocessing import LabelEncoder"
   ]
  },
  {
   "cell_type": "code",
   "execution_count": 2,
   "id": "729bbcd3",
   "metadata": {},
   "outputs": [
    {
     "data": {
      "text/html": [
       "<div>\n",
       "<style scoped>\n",
       "    .dataframe tbody tr th:only-of-type {\n",
       "        vertical-align: middle;\n",
       "    }\n",
       "\n",
       "    .dataframe tbody tr th {\n",
       "        vertical-align: top;\n",
       "    }\n",
       "\n",
       "    .dataframe thead th {\n",
       "        text-align: right;\n",
       "    }\n",
       "</style>\n",
       "<table border=\"1\" class=\"dataframe\">\n",
       "  <thead>\n",
       "    <tr style=\"text-align: right;\">\n",
       "      <th></th>\n",
       "      <th>Unnamed: 0</th>\n",
       "      <th>bike_price</th>\n",
       "      <th>km_driven</th>\n",
       "      <th>make_year</th>\n",
       "      <th>bike_name</th>\n",
       "      <th>bike_model</th>\n",
       "      <th>bike_address</th>\n",
       "      <th>state</th>\n",
       "    </tr>\n",
       "  </thead>\n",
       "  <tbody>\n",
       "    <tr>\n",
       "      <th>0</th>\n",
       "      <td>0</td>\n",
       "      <td>₹ 45,000</td>\n",
       "      <td>34,361 km</td>\n",
       "      <td>2019.0</td>\n",
       "      <td>Bajaj</td>\n",
       "      <td>Pulsar</td>\n",
       "      <td>Alapati Doctor Colony, Visakhapatnam, Andhra P...</td>\n",
       "      <td>AndhraPradesh</td>\n",
       "    </tr>\n",
       "    <tr>\n",
       "      <th>1</th>\n",
       "      <td>1</td>\n",
       "      <td>₹ 2,00,000</td>\n",
       "      <td>9,000 km</td>\n",
       "      <td>2019.0</td>\n",
       "      <td>KTM</td>\n",
       "      <td>390 Duke ABS</td>\n",
       "      <td>MVP Colony, Visakhapatnam, Andhra Pradesh</td>\n",
       "      <td>AndhraPradesh</td>\n",
       "    </tr>\n",
       "    <tr>\n",
       "      <th>2</th>\n",
       "      <td>2</td>\n",
       "      <td>₹ 1,35,000</td>\n",
       "      <td>17,000 km</td>\n",
       "      <td>2019.0</td>\n",
       "      <td>KTM</td>\n",
       "      <td>Others</td>\n",
       "      <td>NAD, Visakhapatnam, Andhra Pradesh</td>\n",
       "      <td>AndhraPradesh</td>\n",
       "    </tr>\n",
       "    <tr>\n",
       "      <th>3</th>\n",
       "      <td>3</td>\n",
       "      <td>₹ 1,10,000</td>\n",
       "      <td>28,000 km</td>\n",
       "      <td>1992.0</td>\n",
       "      <td>Royal Enfield</td>\n",
       "      <td>Bullet</td>\n",
       "      <td>Vajiapalem, Visakhapatnam, Andhra Pradesh</td>\n",
       "      <td>AndhraPradesh</td>\n",
       "    </tr>\n",
       "    <tr>\n",
       "      <th>4</th>\n",
       "      <td>4</td>\n",
       "      <td>₹ 50,000</td>\n",
       "      <td>51,400 km</td>\n",
       "      <td>2015.0</td>\n",
       "      <td>Bajaj</td>\n",
       "      <td>Avenger</td>\n",
       "      <td>Dasanna Pet, Vizianagaram, Andhra Pradesh</td>\n",
       "      <td>AndhraPradesh</td>\n",
       "    </tr>\n",
       "  </tbody>\n",
       "</table>\n",
       "</div>"
      ],
      "text/plain": [
       "   Unnamed: 0  bike_price  km_driven  make_year      bike_name    bike_model  \\\n",
       "0           0    ₹ 45,000  34,361 km     2019.0          Bajaj        Pulsar   \n",
       "1           1  ₹ 2,00,000   9,000 km     2019.0            KTM  390 Duke ABS   \n",
       "2           2  ₹ 1,35,000  17,000 km     2019.0            KTM        Others   \n",
       "3           3  ₹ 1,10,000  28,000 km     1992.0  Royal Enfield        Bullet   \n",
       "4           4    ₹ 50,000  51,400 km     2015.0          Bajaj       Avenger   \n",
       "\n",
       "                                        bike_address          state  \n",
       "0  Alapati Doctor Colony, Visakhapatnam, Andhra P...  AndhraPradesh  \n",
       "1          MVP Colony, Visakhapatnam, Andhra Pradesh  AndhraPradesh  \n",
       "2                 NAD, Visakhapatnam, Andhra Pradesh  AndhraPradesh  \n",
       "3          Vajiapalem, Visakhapatnam, Andhra Pradesh  AndhraPradesh  \n",
       "4          Dasanna Pet, Vizianagaram, Andhra Pradesh  AndhraPradesh  "
      ]
     },
     "execution_count": 2,
     "metadata": {},
     "output_type": "execute_result"
    }
   ],
   "source": [
    "thor= pd.read_csv(\"Avenger_Assemble.csv\")\n",
    "thor.head()"
   ]
  },
  {
   "cell_type": "code",
   "execution_count": 3,
   "id": "64e7c46b",
   "metadata": {},
   "outputs": [
    {
     "data": {
      "text/html": [
       "<div>\n",
       "<style scoped>\n",
       "    .dataframe tbody tr th:only-of-type {\n",
       "        vertical-align: middle;\n",
       "    }\n",
       "\n",
       "    .dataframe tbody tr th {\n",
       "        vertical-align: top;\n",
       "    }\n",
       "\n",
       "    .dataframe thead th {\n",
       "        text-align: right;\n",
       "    }\n",
       "</style>\n",
       "<table border=\"1\" class=\"dataframe\">\n",
       "  <thead>\n",
       "    <tr style=\"text-align: right;\">\n",
       "      <th></th>\n",
       "      <th>Unnamed: 0</th>\n",
       "      <th>bike_price</th>\n",
       "      <th>km_driven</th>\n",
       "      <th>make_year</th>\n",
       "      <th>bike_name</th>\n",
       "      <th>bike_model</th>\n",
       "      <th>bike_address</th>\n",
       "      <th>state</th>\n",
       "      <th>city</th>\n",
       "    </tr>\n",
       "  </thead>\n",
       "  <tbody>\n",
       "    <tr>\n",
       "      <th>0</th>\n",
       "      <td>0</td>\n",
       "      <td>₹ 45,000</td>\n",
       "      <td>34,361 km</td>\n",
       "      <td>2019.0</td>\n",
       "      <td>Bajaj</td>\n",
       "      <td>Pulsar</td>\n",
       "      <td>Alapati Doctor Colony, Visakhapatnam, Andhra P...</td>\n",
       "      <td>AndhraPradesh</td>\n",
       "      <td>Visakhapatnam</td>\n",
       "    </tr>\n",
       "    <tr>\n",
       "      <th>1</th>\n",
       "      <td>1</td>\n",
       "      <td>₹ 2,00,000</td>\n",
       "      <td>9,000 km</td>\n",
       "      <td>2019.0</td>\n",
       "      <td>KTM</td>\n",
       "      <td>390 Duke ABS</td>\n",
       "      <td>MVP Colony, Visakhapatnam, Andhra Pradesh</td>\n",
       "      <td>AndhraPradesh</td>\n",
       "      <td>Visakhapatnam</td>\n",
       "    </tr>\n",
       "    <tr>\n",
       "      <th>2</th>\n",
       "      <td>2</td>\n",
       "      <td>₹ 1,35,000</td>\n",
       "      <td>17,000 km</td>\n",
       "      <td>2019.0</td>\n",
       "      <td>KTM</td>\n",
       "      <td>Others</td>\n",
       "      <td>NAD, Visakhapatnam, Andhra Pradesh</td>\n",
       "      <td>AndhraPradesh</td>\n",
       "      <td>Visakhapatnam</td>\n",
       "    </tr>\n",
       "    <tr>\n",
       "      <th>3</th>\n",
       "      <td>3</td>\n",
       "      <td>₹ 1,10,000</td>\n",
       "      <td>28,000 km</td>\n",
       "      <td>1992.0</td>\n",
       "      <td>Royal Enfield</td>\n",
       "      <td>Bullet</td>\n",
       "      <td>Vajiapalem, Visakhapatnam, Andhra Pradesh</td>\n",
       "      <td>AndhraPradesh</td>\n",
       "      <td>Visakhapatnam</td>\n",
       "    </tr>\n",
       "    <tr>\n",
       "      <th>4</th>\n",
       "      <td>4</td>\n",
       "      <td>₹ 50,000</td>\n",
       "      <td>51,400 km</td>\n",
       "      <td>2015.0</td>\n",
       "      <td>Bajaj</td>\n",
       "      <td>Avenger</td>\n",
       "      <td>Dasanna Pet, Vizianagaram, Andhra Pradesh</td>\n",
       "      <td>AndhraPradesh</td>\n",
       "      <td>Vizianagaram</td>\n",
       "    </tr>\n",
       "  </tbody>\n",
       "</table>\n",
       "</div>"
      ],
      "text/plain": [
       "   Unnamed: 0  bike_price  km_driven  make_year      bike_name    bike_model  \\\n",
       "0           0    ₹ 45,000  34,361 km     2019.0          Bajaj        Pulsar   \n",
       "1           1  ₹ 2,00,000   9,000 km     2019.0            KTM  390 Duke ABS   \n",
       "2           2  ₹ 1,35,000  17,000 km     2019.0            KTM        Others   \n",
       "3           3  ₹ 1,10,000  28,000 km     1992.0  Royal Enfield        Bullet   \n",
       "4           4    ₹ 50,000  51,400 km     2015.0          Bajaj       Avenger   \n",
       "\n",
       "                                        bike_address          state  \\\n",
       "0  Alapati Doctor Colony, Visakhapatnam, Andhra P...  AndhraPradesh   \n",
       "1          MVP Colony, Visakhapatnam, Andhra Pradesh  AndhraPradesh   \n",
       "2                 NAD, Visakhapatnam, Andhra Pradesh  AndhraPradesh   \n",
       "3          Vajiapalem, Visakhapatnam, Andhra Pradesh  AndhraPradesh   \n",
       "4          Dasanna Pet, Vizianagaram, Andhra Pradesh  AndhraPradesh   \n",
       "\n",
       "             city  \n",
       "0   Visakhapatnam  \n",
       "1   Visakhapatnam  \n",
       "2   Visakhapatnam  \n",
       "3   Visakhapatnam  \n",
       "4    Vizianagaram  "
      ]
     },
     "execution_count": 3,
     "metadata": {},
     "output_type": "execute_result"
    }
   ],
   "source": [
    "#Adding the Row [\"City\"]\n",
    "\n",
    "new =thor[\"bike_address\"].str.split(\",\",n=3,expand=True)\n",
    "thor[\"city\"]=new[1]\n",
    "thor.head()"
   ]
  },
  {
   "cell_type": "code",
   "execution_count": 4,
   "id": "96e51d28",
   "metadata": {},
   "outputs": [
    {
     "data": {
      "text/html": [
       "<div>\n",
       "<style scoped>\n",
       "    .dataframe tbody tr th:only-of-type {\n",
       "        vertical-align: middle;\n",
       "    }\n",
       "\n",
       "    .dataframe tbody tr th {\n",
       "        vertical-align: top;\n",
       "    }\n",
       "\n",
       "    .dataframe thead th {\n",
       "        text-align: right;\n",
       "    }\n",
       "</style>\n",
       "<table border=\"1\" class=\"dataframe\">\n",
       "  <thead>\n",
       "    <tr style=\"text-align: right;\">\n",
       "      <th></th>\n",
       "      <th>bike_price</th>\n",
       "      <th>km_driven</th>\n",
       "      <th>make_year</th>\n",
       "      <th>bike_name</th>\n",
       "      <th>bike_model</th>\n",
       "      <th>state</th>\n",
       "      <th>city</th>\n",
       "    </tr>\n",
       "  </thead>\n",
       "  <tbody>\n",
       "    <tr>\n",
       "      <th>0</th>\n",
       "      <td>₹ 45,000</td>\n",
       "      <td>34,361 km</td>\n",
       "      <td>2019.0</td>\n",
       "      <td>Bajaj</td>\n",
       "      <td>Pulsar</td>\n",
       "      <td>AndhraPradesh</td>\n",
       "      <td>Visakhapatnam</td>\n",
       "    </tr>\n",
       "    <tr>\n",
       "      <th>1</th>\n",
       "      <td>₹ 2,00,000</td>\n",
       "      <td>9,000 km</td>\n",
       "      <td>2019.0</td>\n",
       "      <td>KTM</td>\n",
       "      <td>390 Duke ABS</td>\n",
       "      <td>AndhraPradesh</td>\n",
       "      <td>Visakhapatnam</td>\n",
       "    </tr>\n",
       "    <tr>\n",
       "      <th>2</th>\n",
       "      <td>₹ 1,35,000</td>\n",
       "      <td>17,000 km</td>\n",
       "      <td>2019.0</td>\n",
       "      <td>KTM</td>\n",
       "      <td>Others</td>\n",
       "      <td>AndhraPradesh</td>\n",
       "      <td>Visakhapatnam</td>\n",
       "    </tr>\n",
       "    <tr>\n",
       "      <th>3</th>\n",
       "      <td>₹ 1,10,000</td>\n",
       "      <td>28,000 km</td>\n",
       "      <td>1992.0</td>\n",
       "      <td>Royal Enfield</td>\n",
       "      <td>Bullet</td>\n",
       "      <td>AndhraPradesh</td>\n",
       "      <td>Visakhapatnam</td>\n",
       "    </tr>\n",
       "    <tr>\n",
       "      <th>4</th>\n",
       "      <td>₹ 50,000</td>\n",
       "      <td>51,400 km</td>\n",
       "      <td>2015.0</td>\n",
       "      <td>Bajaj</td>\n",
       "      <td>Avenger</td>\n",
       "      <td>AndhraPradesh</td>\n",
       "      <td>Vizianagaram</td>\n",
       "    </tr>\n",
       "  </tbody>\n",
       "</table>\n",
       "</div>"
      ],
      "text/plain": [
       "   bike_price  km_driven  make_year      bike_name    bike_model  \\\n",
       "0    ₹ 45,000  34,361 km     2019.0          Bajaj        Pulsar   \n",
       "1  ₹ 2,00,000   9,000 km     2019.0            KTM  390 Duke ABS   \n",
       "2  ₹ 1,35,000  17,000 km     2019.0            KTM        Others   \n",
       "3  ₹ 1,10,000  28,000 km     1992.0  Royal Enfield        Bullet   \n",
       "4    ₹ 50,000  51,400 km     2015.0          Bajaj       Avenger   \n",
       "\n",
       "           state            city  \n",
       "0  AndhraPradesh   Visakhapatnam  \n",
       "1  AndhraPradesh   Visakhapatnam  \n",
       "2  AndhraPradesh   Visakhapatnam  \n",
       "3  AndhraPradesh   Visakhapatnam  \n",
       "4  AndhraPradesh    Vizianagaram  "
      ]
     },
     "execution_count": 4,
     "metadata": {},
     "output_type": "execute_result"
    }
   ],
   "source": [
    "#Removing The Unwanted Columns\n",
    "thor.drop(columns=['Unnamed: 0','bike_address'],inplace=True)\n",
    "thor.head()"
   ]
  },
  {
   "cell_type": "code",
   "execution_count": 5,
   "id": "4074a697",
   "metadata": {},
   "outputs": [
    {
     "data": {
      "text/plain": [
       "(9831, 7)"
      ]
     },
     "execution_count": 5,
     "metadata": {},
     "output_type": "execute_result"
    }
   ],
   "source": [
    "thor.shape"
   ]
  },
  {
   "cell_type": "code",
   "execution_count": 6,
   "id": "d583859f",
   "metadata": {},
   "outputs": [
    {
     "name": "stdout",
     "output_type": "stream",
     "text": [
      "<class 'pandas.core.frame.DataFrame'>\n",
      "RangeIndex: 9831 entries, 0 to 9830\n",
      "Data columns (total 7 columns):\n",
      " #   Column      Non-Null Count  Dtype  \n",
      "---  ------      --------------  -----  \n",
      " 0   bike_price  9733 non-null   object \n",
      " 1   km_driven   9735 non-null   object \n",
      " 2   make_year   9729 non-null   float64\n",
      " 3   bike_name   9729 non-null   object \n",
      " 4   bike_model  9729 non-null   object \n",
      " 5   state       9831 non-null   object \n",
      " 6   city        9733 non-null   object \n",
      "dtypes: float64(1), object(6)\n",
      "memory usage: 537.8+ KB\n"
     ]
    }
   ],
   "source": [
    "thor.info()"
   ]
  },
  {
   "cell_type": "code",
   "execution_count": 7,
   "id": "a8c56c1c",
   "metadata": {},
   "outputs": [],
   "source": [
    "thorcheck =thor.drop_duplicates()"
   ]
  },
  {
   "cell_type": "code",
   "execution_count": 8,
   "id": "995d46d1",
   "metadata": {},
   "outputs": [
    {
     "data": {
      "text/html": [
       "<div>\n",
       "<style scoped>\n",
       "    .dataframe tbody tr th:only-of-type {\n",
       "        vertical-align: middle;\n",
       "    }\n",
       "\n",
       "    .dataframe tbody tr th {\n",
       "        vertical-align: top;\n",
       "    }\n",
       "\n",
       "    .dataframe thead th {\n",
       "        text-align: right;\n",
       "    }\n",
       "</style>\n",
       "<table border=\"1\" class=\"dataframe\">\n",
       "  <thead>\n",
       "    <tr style=\"text-align: right;\">\n",
       "      <th></th>\n",
       "      <th>bike_price</th>\n",
       "      <th>km_driven</th>\n",
       "      <th>make_year</th>\n",
       "      <th>bike_name</th>\n",
       "      <th>bike_model</th>\n",
       "      <th>state</th>\n",
       "      <th>city</th>\n",
       "    </tr>\n",
       "  </thead>\n",
       "  <tbody>\n",
       "    <tr>\n",
       "      <th>0</th>\n",
       "      <td>₹ 45,000</td>\n",
       "      <td>34,361 km</td>\n",
       "      <td>2019.0</td>\n",
       "      <td>Bajaj</td>\n",
       "      <td>Pulsar</td>\n",
       "      <td>AndhraPradesh</td>\n",
       "      <td>Visakhapatnam</td>\n",
       "    </tr>\n",
       "    <tr>\n",
       "      <th>1</th>\n",
       "      <td>₹ 2,00,000</td>\n",
       "      <td>9,000 km</td>\n",
       "      <td>2019.0</td>\n",
       "      <td>KTM</td>\n",
       "      <td>390 Duke ABS</td>\n",
       "      <td>AndhraPradesh</td>\n",
       "      <td>Visakhapatnam</td>\n",
       "    </tr>\n",
       "    <tr>\n",
       "      <th>2</th>\n",
       "      <td>₹ 1,35,000</td>\n",
       "      <td>17,000 km</td>\n",
       "      <td>2019.0</td>\n",
       "      <td>KTM</td>\n",
       "      <td>Others</td>\n",
       "      <td>AndhraPradesh</td>\n",
       "      <td>Visakhapatnam</td>\n",
       "    </tr>\n",
       "    <tr>\n",
       "      <th>3</th>\n",
       "      <td>₹ 1,10,000</td>\n",
       "      <td>28,000 km</td>\n",
       "      <td>1992.0</td>\n",
       "      <td>Royal Enfield</td>\n",
       "      <td>Bullet</td>\n",
       "      <td>AndhraPradesh</td>\n",
       "      <td>Visakhapatnam</td>\n",
       "    </tr>\n",
       "    <tr>\n",
       "      <th>4</th>\n",
       "      <td>₹ 50,000</td>\n",
       "      <td>51,400 km</td>\n",
       "      <td>2015.0</td>\n",
       "      <td>Bajaj</td>\n",
       "      <td>Avenger</td>\n",
       "      <td>AndhraPradesh</td>\n",
       "      <td>Vizianagaram</td>\n",
       "    </tr>\n",
       "    <tr>\n",
       "      <th>...</th>\n",
       "      <td>...</td>\n",
       "      <td>...</td>\n",
       "      <td>...</td>\n",
       "      <td>...</td>\n",
       "      <td>...</td>\n",
       "      <td>...</td>\n",
       "      <td>...</td>\n",
       "    </tr>\n",
       "    <tr>\n",
       "      <th>9826</th>\n",
       "      <td>₹ 87,500</td>\n",
       "      <td>1,700 km</td>\n",
       "      <td>2019.0</td>\n",
       "      <td>TVS</td>\n",
       "      <td>Apache RTR</td>\n",
       "      <td>Delhi</td>\n",
       "      <td>Delhi</td>\n",
       "    </tr>\n",
       "    <tr>\n",
       "      <th>9827</th>\n",
       "      <td>₹ 40,000</td>\n",
       "      <td>55,000 km</td>\n",
       "      <td>2015.0</td>\n",
       "      <td>Suzuki</td>\n",
       "      <td>Gixxer</td>\n",
       "      <td>Delhi</td>\n",
       "      <td>Delhi</td>\n",
       "    </tr>\n",
       "    <tr>\n",
       "      <th>9828</th>\n",
       "      <td>₹ 80,000</td>\n",
       "      <td>25,000 km</td>\n",
       "      <td>2017.0</td>\n",
       "      <td>Yamaha</td>\n",
       "      <td>YZF R</td>\n",
       "      <td>Delhi</td>\n",
       "      <td>Delhi</td>\n",
       "    </tr>\n",
       "    <tr>\n",
       "      <th>9829</th>\n",
       "      <td>₹ 1,80,000</td>\n",
       "      <td>15,700 km</td>\n",
       "      <td>2019.0</td>\n",
       "      <td>Royal Enfield</td>\n",
       "      <td>Classic</td>\n",
       "      <td>Delhi</td>\n",
       "      <td>Delhi</td>\n",
       "    </tr>\n",
       "    <tr>\n",
       "      <th>9830</th>\n",
       "      <td>₹ 1,25,000</td>\n",
       "      <td>35,296 km</td>\n",
       "      <td>2017.0</td>\n",
       "      <td>Royal Enfield</td>\n",
       "      <td>Classic</td>\n",
       "      <td>Delhi</td>\n",
       "      <td>Delhi</td>\n",
       "    </tr>\n",
       "  </tbody>\n",
       "</table>\n",
       "<p>9667 rows × 7 columns</p>\n",
       "</div>"
      ],
      "text/plain": [
       "      bike_price  km_driven  make_year      bike_name    bike_model  \\\n",
       "0       ₹ 45,000  34,361 km     2019.0          Bajaj        Pulsar   \n",
       "1     ₹ 2,00,000   9,000 km     2019.0            KTM  390 Duke ABS   \n",
       "2     ₹ 1,35,000  17,000 km     2019.0            KTM        Others   \n",
       "3     ₹ 1,10,000  28,000 km     1992.0  Royal Enfield        Bullet   \n",
       "4       ₹ 50,000  51,400 km     2015.0          Bajaj       Avenger   \n",
       "...          ...        ...        ...            ...           ...   \n",
       "9826    ₹ 87,500   1,700 km     2019.0            TVS    Apache RTR   \n",
       "9827    ₹ 40,000  55,000 km     2015.0         Suzuki        Gixxer   \n",
       "9828    ₹ 80,000  25,000 km     2017.0         Yamaha         YZF R   \n",
       "9829  ₹ 1,80,000  15,700 km     2019.0  Royal Enfield       Classic   \n",
       "9830  ₹ 1,25,000  35,296 km     2017.0  Royal Enfield       Classic   \n",
       "\n",
       "              state            city  \n",
       "0     AndhraPradesh   Visakhapatnam  \n",
       "1     AndhraPradesh   Visakhapatnam  \n",
       "2     AndhraPradesh   Visakhapatnam  \n",
       "3     AndhraPradesh   Visakhapatnam  \n",
       "4     AndhraPradesh    Vizianagaram  \n",
       "...             ...             ...  \n",
       "9826          Delhi           Delhi  \n",
       "9827          Delhi           Delhi  \n",
       "9828          Delhi           Delhi  \n",
       "9829          Delhi           Delhi  \n",
       "9830          Delhi           Delhi  \n",
       "\n",
       "[9667 rows x 7 columns]"
      ]
     },
     "execution_count": 8,
     "metadata": {},
     "output_type": "execute_result"
    }
   ],
   "source": [
    "thorcheck.dropna()"
   ]
  },
  {
   "cell_type": "code",
   "execution_count": 9,
   "id": "84b365ec",
   "metadata": {},
   "outputs": [],
   "source": [
    "hammer = thor.drop_duplicates().reset_index(drop=True)"
   ]
  },
  {
   "cell_type": "code",
   "execution_count": 10,
   "id": "32e3cd74",
   "metadata": {},
   "outputs": [
    {
     "data": {
      "text/html": [
       "<div>\n",
       "<style scoped>\n",
       "    .dataframe tbody tr th:only-of-type {\n",
       "        vertical-align: middle;\n",
       "    }\n",
       "\n",
       "    .dataframe tbody tr th {\n",
       "        vertical-align: top;\n",
       "    }\n",
       "\n",
       "    .dataframe thead th {\n",
       "        text-align: right;\n",
       "    }\n",
       "</style>\n",
       "<table border=\"1\" class=\"dataframe\">\n",
       "  <thead>\n",
       "    <tr style=\"text-align: right;\">\n",
       "      <th></th>\n",
       "      <th>bike_price</th>\n",
       "      <th>km_driven</th>\n",
       "      <th>make_year</th>\n",
       "      <th>bike_name</th>\n",
       "      <th>bike_model</th>\n",
       "      <th>state</th>\n",
       "      <th>city</th>\n",
       "    </tr>\n",
       "  </thead>\n",
       "  <tbody>\n",
       "    <tr>\n",
       "      <th>0</th>\n",
       "      <td>₹ 45,000</td>\n",
       "      <td>34,361 km</td>\n",
       "      <td>2019.0</td>\n",
       "      <td>Bajaj</td>\n",
       "      <td>Pulsar</td>\n",
       "      <td>AndhraPradesh</td>\n",
       "      <td>Visakhapatnam</td>\n",
       "    </tr>\n",
       "    <tr>\n",
       "      <th>1</th>\n",
       "      <td>₹ 2,00,000</td>\n",
       "      <td>9,000 km</td>\n",
       "      <td>2019.0</td>\n",
       "      <td>KTM</td>\n",
       "      <td>390 Duke ABS</td>\n",
       "      <td>AndhraPradesh</td>\n",
       "      <td>Visakhapatnam</td>\n",
       "    </tr>\n",
       "    <tr>\n",
       "      <th>2</th>\n",
       "      <td>₹ 1,35,000</td>\n",
       "      <td>17,000 km</td>\n",
       "      <td>2019.0</td>\n",
       "      <td>KTM</td>\n",
       "      <td>Others</td>\n",
       "      <td>AndhraPradesh</td>\n",
       "      <td>Visakhapatnam</td>\n",
       "    </tr>\n",
       "    <tr>\n",
       "      <th>3</th>\n",
       "      <td>₹ 1,10,000</td>\n",
       "      <td>28,000 km</td>\n",
       "      <td>1992.0</td>\n",
       "      <td>Royal Enfield</td>\n",
       "      <td>Bullet</td>\n",
       "      <td>AndhraPradesh</td>\n",
       "      <td>Visakhapatnam</td>\n",
       "    </tr>\n",
       "    <tr>\n",
       "      <th>4</th>\n",
       "      <td>₹ 50,000</td>\n",
       "      <td>51,400 km</td>\n",
       "      <td>2015.0</td>\n",
       "      <td>Bajaj</td>\n",
       "      <td>Avenger</td>\n",
       "      <td>AndhraPradesh</td>\n",
       "      <td>Vizianagaram</td>\n",
       "    </tr>\n",
       "    <tr>\n",
       "      <th>...</th>\n",
       "      <td>...</td>\n",
       "      <td>...</td>\n",
       "      <td>...</td>\n",
       "      <td>...</td>\n",
       "      <td>...</td>\n",
       "      <td>...</td>\n",
       "      <td>...</td>\n",
       "    </tr>\n",
       "    <tr>\n",
       "      <th>9686</th>\n",
       "      <td>₹ 87,500</td>\n",
       "      <td>1,700 km</td>\n",
       "      <td>2019.0</td>\n",
       "      <td>TVS</td>\n",
       "      <td>Apache RTR</td>\n",
       "      <td>Delhi</td>\n",
       "      <td>Delhi</td>\n",
       "    </tr>\n",
       "    <tr>\n",
       "      <th>9687</th>\n",
       "      <td>₹ 40,000</td>\n",
       "      <td>55,000 km</td>\n",
       "      <td>2015.0</td>\n",
       "      <td>Suzuki</td>\n",
       "      <td>Gixxer</td>\n",
       "      <td>Delhi</td>\n",
       "      <td>Delhi</td>\n",
       "    </tr>\n",
       "    <tr>\n",
       "      <th>9688</th>\n",
       "      <td>₹ 80,000</td>\n",
       "      <td>25,000 km</td>\n",
       "      <td>2017.0</td>\n",
       "      <td>Yamaha</td>\n",
       "      <td>YZF R</td>\n",
       "      <td>Delhi</td>\n",
       "      <td>Delhi</td>\n",
       "    </tr>\n",
       "    <tr>\n",
       "      <th>9689</th>\n",
       "      <td>₹ 1,80,000</td>\n",
       "      <td>15,700 km</td>\n",
       "      <td>2019.0</td>\n",
       "      <td>Royal Enfield</td>\n",
       "      <td>Classic</td>\n",
       "      <td>Delhi</td>\n",
       "      <td>Delhi</td>\n",
       "    </tr>\n",
       "    <tr>\n",
       "      <th>9690</th>\n",
       "      <td>₹ 1,25,000</td>\n",
       "      <td>35,296 km</td>\n",
       "      <td>2017.0</td>\n",
       "      <td>Royal Enfield</td>\n",
       "      <td>Classic</td>\n",
       "      <td>Delhi</td>\n",
       "      <td>Delhi</td>\n",
       "    </tr>\n",
       "  </tbody>\n",
       "</table>\n",
       "<p>9691 rows × 7 columns</p>\n",
       "</div>"
      ],
      "text/plain": [
       "      bike_price  km_driven  make_year      bike_name    bike_model  \\\n",
       "0       ₹ 45,000  34,361 km     2019.0          Bajaj        Pulsar   \n",
       "1     ₹ 2,00,000   9,000 km     2019.0            KTM  390 Duke ABS   \n",
       "2     ₹ 1,35,000  17,000 km     2019.0            KTM        Others   \n",
       "3     ₹ 1,10,000  28,000 km     1992.0  Royal Enfield        Bullet   \n",
       "4       ₹ 50,000  51,400 km     2015.0          Bajaj       Avenger   \n",
       "...          ...        ...        ...            ...           ...   \n",
       "9686    ₹ 87,500   1,700 km     2019.0            TVS    Apache RTR   \n",
       "9687    ₹ 40,000  55,000 km     2015.0         Suzuki        Gixxer   \n",
       "9688    ₹ 80,000  25,000 km     2017.0         Yamaha         YZF R   \n",
       "9689  ₹ 1,80,000  15,700 km     2019.0  Royal Enfield       Classic   \n",
       "9690  ₹ 1,25,000  35,296 km     2017.0  Royal Enfield       Classic   \n",
       "\n",
       "              state            city  \n",
       "0     AndhraPradesh   Visakhapatnam  \n",
       "1     AndhraPradesh   Visakhapatnam  \n",
       "2     AndhraPradesh   Visakhapatnam  \n",
       "3     AndhraPradesh   Visakhapatnam  \n",
       "4     AndhraPradesh    Vizianagaram  \n",
       "...             ...             ...  \n",
       "9686          Delhi           Delhi  \n",
       "9687          Delhi           Delhi  \n",
       "9688          Delhi           Delhi  \n",
       "9689          Delhi           Delhi  \n",
       "9690          Delhi           Delhi  \n",
       "\n",
       "[9691 rows x 7 columns]"
      ]
     },
     "execution_count": 10,
     "metadata": {},
     "output_type": "execute_result"
    }
   ],
   "source": [
    "hammer"
   ]
  },
  {
   "cell_type": "code",
   "execution_count": 11,
   "id": "5441350e",
   "metadata": {},
   "outputs": [
    {
     "data": {
      "text/html": [
       "<div>\n",
       "<style scoped>\n",
       "    .dataframe tbody tr th:only-of-type {\n",
       "        vertical-align: middle;\n",
       "    }\n",
       "\n",
       "    .dataframe tbody tr th {\n",
       "        vertical-align: top;\n",
       "    }\n",
       "\n",
       "    .dataframe thead th {\n",
       "        text-align: right;\n",
       "    }\n",
       "</style>\n",
       "<table border=\"1\" class=\"dataframe\">\n",
       "  <thead>\n",
       "    <tr style=\"text-align: right;\">\n",
       "      <th></th>\n",
       "      <th>bike_price</th>\n",
       "      <th>km_driven</th>\n",
       "      <th>make_year</th>\n",
       "      <th>bike_name</th>\n",
       "      <th>bike_model</th>\n",
       "      <th>state</th>\n",
       "      <th>city</th>\n",
       "    </tr>\n",
       "  </thead>\n",
       "  <tbody>\n",
       "    <tr>\n",
       "      <th>0</th>\n",
       "      <td>45000</td>\n",
       "      <td>34361</td>\n",
       "      <td>2019.0</td>\n",
       "      <td>Bajaj</td>\n",
       "      <td>Pulsar</td>\n",
       "      <td>AndhraPradesh</td>\n",
       "      <td>Visakhapatnam</td>\n",
       "    </tr>\n",
       "    <tr>\n",
       "      <th>1</th>\n",
       "      <td>200000</td>\n",
       "      <td>9000</td>\n",
       "      <td>2019.0</td>\n",
       "      <td>KTM</td>\n",
       "      <td>390 Duke ABS</td>\n",
       "      <td>AndhraPradesh</td>\n",
       "      <td>Visakhapatnam</td>\n",
       "    </tr>\n",
       "    <tr>\n",
       "      <th>2</th>\n",
       "      <td>135000</td>\n",
       "      <td>17000</td>\n",
       "      <td>2019.0</td>\n",
       "      <td>KTM</td>\n",
       "      <td>Others</td>\n",
       "      <td>AndhraPradesh</td>\n",
       "      <td>Visakhapatnam</td>\n",
       "    </tr>\n",
       "    <tr>\n",
       "      <th>3</th>\n",
       "      <td>110000</td>\n",
       "      <td>28000</td>\n",
       "      <td>1992.0</td>\n",
       "      <td>Royal Enfield</td>\n",
       "      <td>Bullet</td>\n",
       "      <td>AndhraPradesh</td>\n",
       "      <td>Visakhapatnam</td>\n",
       "    </tr>\n",
       "    <tr>\n",
       "      <th>4</th>\n",
       "      <td>50000</td>\n",
       "      <td>51400</td>\n",
       "      <td>2015.0</td>\n",
       "      <td>Bajaj</td>\n",
       "      <td>Avenger</td>\n",
       "      <td>AndhraPradesh</td>\n",
       "      <td>Vizianagaram</td>\n",
       "    </tr>\n",
       "    <tr>\n",
       "      <th>...</th>\n",
       "      <td>...</td>\n",
       "      <td>...</td>\n",
       "      <td>...</td>\n",
       "      <td>...</td>\n",
       "      <td>...</td>\n",
       "      <td>...</td>\n",
       "      <td>...</td>\n",
       "    </tr>\n",
       "    <tr>\n",
       "      <th>9686</th>\n",
       "      <td>87500</td>\n",
       "      <td>1700</td>\n",
       "      <td>2019.0</td>\n",
       "      <td>TVS</td>\n",
       "      <td>Apache RTR</td>\n",
       "      <td>Delhi</td>\n",
       "      <td>Delhi</td>\n",
       "    </tr>\n",
       "    <tr>\n",
       "      <th>9687</th>\n",
       "      <td>40000</td>\n",
       "      <td>55000</td>\n",
       "      <td>2015.0</td>\n",
       "      <td>Suzuki</td>\n",
       "      <td>Gixxer</td>\n",
       "      <td>Delhi</td>\n",
       "      <td>Delhi</td>\n",
       "    </tr>\n",
       "    <tr>\n",
       "      <th>9688</th>\n",
       "      <td>80000</td>\n",
       "      <td>25000</td>\n",
       "      <td>2017.0</td>\n",
       "      <td>Yamaha</td>\n",
       "      <td>YZF R</td>\n",
       "      <td>Delhi</td>\n",
       "      <td>Delhi</td>\n",
       "    </tr>\n",
       "    <tr>\n",
       "      <th>9689</th>\n",
       "      <td>180000</td>\n",
       "      <td>15700</td>\n",
       "      <td>2019.0</td>\n",
       "      <td>Royal Enfield</td>\n",
       "      <td>Classic</td>\n",
       "      <td>Delhi</td>\n",
       "      <td>Delhi</td>\n",
       "    </tr>\n",
       "    <tr>\n",
       "      <th>9690</th>\n",
       "      <td>125000</td>\n",
       "      <td>35296</td>\n",
       "      <td>2017.0</td>\n",
       "      <td>Royal Enfield</td>\n",
       "      <td>Classic</td>\n",
       "      <td>Delhi</td>\n",
       "      <td>Delhi</td>\n",
       "    </tr>\n",
       "  </tbody>\n",
       "</table>\n",
       "<p>9691 rows × 7 columns</p>\n",
       "</div>"
      ],
      "text/plain": [
       "     bike_price km_driven  make_year      bike_name    bike_model  \\\n",
       "0         45000    34361      2019.0          Bajaj        Pulsar   \n",
       "1        200000     9000      2019.0            KTM  390 Duke ABS   \n",
       "2        135000    17000      2019.0            KTM        Others   \n",
       "3        110000    28000      1992.0  Royal Enfield        Bullet   \n",
       "4         50000    51400      2015.0          Bajaj       Avenger   \n",
       "...         ...       ...        ...            ...           ...   \n",
       "9686      87500     1700      2019.0            TVS    Apache RTR   \n",
       "9687      40000    55000      2015.0         Suzuki        Gixxer   \n",
       "9688      80000    25000      2017.0         Yamaha         YZF R   \n",
       "9689     180000    15700      2019.0  Royal Enfield       Classic   \n",
       "9690     125000    35296      2017.0  Royal Enfield       Classic   \n",
       "\n",
       "              state            city  \n",
       "0     AndhraPradesh   Visakhapatnam  \n",
       "1     AndhraPradesh   Visakhapatnam  \n",
       "2     AndhraPradesh   Visakhapatnam  \n",
       "3     AndhraPradesh   Visakhapatnam  \n",
       "4     AndhraPradesh    Vizianagaram  \n",
       "...             ...             ...  \n",
       "9686          Delhi           Delhi  \n",
       "9687          Delhi           Delhi  \n",
       "9688          Delhi           Delhi  \n",
       "9689          Delhi           Delhi  \n",
       "9690          Delhi           Delhi  \n",
       "\n",
       "[9691 rows x 7 columns]"
      ]
     },
     "execution_count": 11,
     "metadata": {},
     "output_type": "execute_result"
    }
   ],
   "source": [
    "#Removing the Unwanted Symbols & Changing the Datatypes\n",
    "hammer[\"bike_price\"]=hammer[\"bike_price\"].str.replace(\"[\\₹\\,]\",\"\",regex=True)\n",
    "hammer['km_driven']=hammer['km_driven'].str.replace(\"km\",\"\")\n",
    "hammer['km_driven']=hammer['km_driven'].str.replace(\",\",\"\")\n",
    "hammer"
   ]
  },
  {
   "cell_type": "code",
   "execution_count": 12,
   "id": "fe587c91",
   "metadata": {},
   "outputs": [],
   "source": [
    "hammer[\"bike_name\"]=hammer[\"bike_name\"].str.lower()\n",
    "hammer['bike_model']=hammer['bike_model'].str.lower()\n",
    "hammer['city']=hammer['city'].str.lower()\n",
    "hammer['state']=hammer['state'].str.lower()"
   ]
  },
  {
   "cell_type": "code",
   "execution_count": 13,
   "id": "d5d36e3f",
   "metadata": {},
   "outputs": [
    {
     "data": {
      "text/html": [
       "<div>\n",
       "<style scoped>\n",
       "    .dataframe tbody tr th:only-of-type {\n",
       "        vertical-align: middle;\n",
       "    }\n",
       "\n",
       "    .dataframe tbody tr th {\n",
       "        vertical-align: top;\n",
       "    }\n",
       "\n",
       "    .dataframe thead th {\n",
       "        text-align: right;\n",
       "    }\n",
       "</style>\n",
       "<table border=\"1\" class=\"dataframe\">\n",
       "  <thead>\n",
       "    <tr style=\"text-align: right;\">\n",
       "      <th></th>\n",
       "      <th>bike_price</th>\n",
       "      <th>km_driven</th>\n",
       "      <th>make_year</th>\n",
       "      <th>bike_name</th>\n",
       "      <th>bike_model</th>\n",
       "      <th>state</th>\n",
       "      <th>city</th>\n",
       "    </tr>\n",
       "  </thead>\n",
       "  <tbody>\n",
       "    <tr>\n",
       "      <th>0</th>\n",
       "      <td>45000</td>\n",
       "      <td>34361</td>\n",
       "      <td>2019.0</td>\n",
       "      <td>bajaj</td>\n",
       "      <td>pulsar</td>\n",
       "      <td>andhrapradesh</td>\n",
       "      <td>visakhapatnam</td>\n",
       "    </tr>\n",
       "    <tr>\n",
       "      <th>1</th>\n",
       "      <td>200000</td>\n",
       "      <td>9000</td>\n",
       "      <td>2019.0</td>\n",
       "      <td>ktm</td>\n",
       "      <td>390 duke abs</td>\n",
       "      <td>andhrapradesh</td>\n",
       "      <td>visakhapatnam</td>\n",
       "    </tr>\n",
       "    <tr>\n",
       "      <th>2</th>\n",
       "      <td>135000</td>\n",
       "      <td>17000</td>\n",
       "      <td>2019.0</td>\n",
       "      <td>ktm</td>\n",
       "      <td>others</td>\n",
       "      <td>andhrapradesh</td>\n",
       "      <td>visakhapatnam</td>\n",
       "    </tr>\n",
       "    <tr>\n",
       "      <th>3</th>\n",
       "      <td>110000</td>\n",
       "      <td>28000</td>\n",
       "      <td>1992.0</td>\n",
       "      <td>royal enfield</td>\n",
       "      <td>bullet</td>\n",
       "      <td>andhrapradesh</td>\n",
       "      <td>visakhapatnam</td>\n",
       "    </tr>\n",
       "    <tr>\n",
       "      <th>4</th>\n",
       "      <td>50000</td>\n",
       "      <td>51400</td>\n",
       "      <td>2015.0</td>\n",
       "      <td>bajaj</td>\n",
       "      <td>avenger</td>\n",
       "      <td>andhrapradesh</td>\n",
       "      <td>vizianagaram</td>\n",
       "    </tr>\n",
       "    <tr>\n",
       "      <th>...</th>\n",
       "      <td>...</td>\n",
       "      <td>...</td>\n",
       "      <td>...</td>\n",
       "      <td>...</td>\n",
       "      <td>...</td>\n",
       "      <td>...</td>\n",
       "      <td>...</td>\n",
       "    </tr>\n",
       "    <tr>\n",
       "      <th>9686</th>\n",
       "      <td>87500</td>\n",
       "      <td>1700</td>\n",
       "      <td>2019.0</td>\n",
       "      <td>tvs</td>\n",
       "      <td>apache rtr</td>\n",
       "      <td>delhi</td>\n",
       "      <td>delhi</td>\n",
       "    </tr>\n",
       "    <tr>\n",
       "      <th>9687</th>\n",
       "      <td>40000</td>\n",
       "      <td>55000</td>\n",
       "      <td>2015.0</td>\n",
       "      <td>suzuki</td>\n",
       "      <td>gixxer</td>\n",
       "      <td>delhi</td>\n",
       "      <td>delhi</td>\n",
       "    </tr>\n",
       "    <tr>\n",
       "      <th>9688</th>\n",
       "      <td>80000</td>\n",
       "      <td>25000</td>\n",
       "      <td>2017.0</td>\n",
       "      <td>yamaha</td>\n",
       "      <td>yzf r</td>\n",
       "      <td>delhi</td>\n",
       "      <td>delhi</td>\n",
       "    </tr>\n",
       "    <tr>\n",
       "      <th>9689</th>\n",
       "      <td>180000</td>\n",
       "      <td>15700</td>\n",
       "      <td>2019.0</td>\n",
       "      <td>royal enfield</td>\n",
       "      <td>classic</td>\n",
       "      <td>delhi</td>\n",
       "      <td>delhi</td>\n",
       "    </tr>\n",
       "    <tr>\n",
       "      <th>9690</th>\n",
       "      <td>125000</td>\n",
       "      <td>35296</td>\n",
       "      <td>2017.0</td>\n",
       "      <td>royal enfield</td>\n",
       "      <td>classic</td>\n",
       "      <td>delhi</td>\n",
       "      <td>delhi</td>\n",
       "    </tr>\n",
       "  </tbody>\n",
       "</table>\n",
       "<p>9691 rows × 7 columns</p>\n",
       "</div>"
      ],
      "text/plain": [
       "     bike_price km_driven  make_year      bike_name    bike_model  \\\n",
       "0         45000    34361      2019.0          bajaj        pulsar   \n",
       "1        200000     9000      2019.0            ktm  390 duke abs   \n",
       "2        135000    17000      2019.0            ktm        others   \n",
       "3        110000    28000      1992.0  royal enfield        bullet   \n",
       "4         50000    51400      2015.0          bajaj       avenger   \n",
       "...         ...       ...        ...            ...           ...   \n",
       "9686      87500     1700      2019.0            tvs    apache rtr   \n",
       "9687      40000    55000      2015.0         suzuki        gixxer   \n",
       "9688      80000    25000      2017.0         yamaha         yzf r   \n",
       "9689     180000    15700      2019.0  royal enfield       classic   \n",
       "9690     125000    35296      2017.0  royal enfield       classic   \n",
       "\n",
       "              state            city  \n",
       "0     andhrapradesh   visakhapatnam  \n",
       "1     andhrapradesh   visakhapatnam  \n",
       "2     andhrapradesh   visakhapatnam  \n",
       "3     andhrapradesh   visakhapatnam  \n",
       "4     andhrapradesh    vizianagaram  \n",
       "...             ...             ...  \n",
       "9686          delhi           delhi  \n",
       "9687          delhi           delhi  \n",
       "9688          delhi           delhi  \n",
       "9689          delhi           delhi  \n",
       "9690          delhi           delhi  \n",
       "\n",
       "[9691 rows x 7 columns]"
      ]
     },
     "execution_count": 13,
     "metadata": {},
     "output_type": "execute_result"
    }
   ],
   "source": [
    "hammer"
   ]
  },
  {
   "cell_type": "code",
   "execution_count": 14,
   "id": "1271b181",
   "metadata": {},
   "outputs": [
    {
     "data": {
      "text/plain": [
       "bike_price    21\n",
       "km_driven     20\n",
       "make_year     24\n",
       "bike_name     24\n",
       "bike_model    24\n",
       "state          0\n",
       "city          21\n",
       "dtype: int64"
      ]
     },
     "execution_count": 14,
     "metadata": {},
     "output_type": "execute_result"
    }
   ],
   "source": [
    "hammer.isnull().sum()"
   ]
  },
  {
   "cell_type": "code",
   "execution_count": 15,
   "id": "3d86fcaa",
   "metadata": {},
   "outputs": [],
   "source": [
    "hammer=hammer.dropna(axis=0).reset_index(drop=True)"
   ]
  },
  {
   "cell_type": "code",
   "execution_count": 16,
   "id": "2ac1e011",
   "metadata": {},
   "outputs": [
    {
     "data": {
      "text/plain": [
       "bike_price    0\n",
       "km_driven     0\n",
       "make_year     0\n",
       "bike_name     0\n",
       "bike_model    0\n",
       "state         0\n",
       "city          0\n",
       "dtype: int64"
      ]
     },
     "execution_count": 16,
     "metadata": {},
     "output_type": "execute_result"
    }
   ],
   "source": [
    "hammer.isnull().sum()"
   ]
  },
  {
   "cell_type": "code",
   "execution_count": 17,
   "id": "1e3040e3",
   "metadata": {},
   "outputs": [
    {
     "name": "stdout",
     "output_type": "stream",
     "text": [
      "<class 'pandas.core.frame.DataFrame'>\n",
      "RangeIndex: 9667 entries, 0 to 9666\n",
      "Data columns (total 7 columns):\n",
      " #   Column      Non-Null Count  Dtype  \n",
      "---  ------      --------------  -----  \n",
      " 0   bike_price  9667 non-null   object \n",
      " 1   km_driven   9667 non-null   object \n",
      " 2   make_year   9667 non-null   float64\n",
      " 3   bike_name   9667 non-null   object \n",
      " 4   bike_model  9667 non-null   object \n",
      " 5   state       9667 non-null   object \n",
      " 6   city        9667 non-null   object \n",
      "dtypes: float64(1), object(6)\n",
      "memory usage: 528.8+ KB\n"
     ]
    }
   ],
   "source": [
    "hammer.info()"
   ]
  },
  {
   "cell_type": "code",
   "execution_count": 18,
   "id": "9e06b34e",
   "metadata": {},
   "outputs": [],
   "source": [
    "hammer[\"make_year\"]=hammer[\"make_year\"].astype(int)"
   ]
  },
  {
   "cell_type": "code",
   "execution_count": 19,
   "id": "4fe9c969",
   "metadata": {},
   "outputs": [
    {
     "data": {
      "text/plain": [
       "bike_price    object\n",
       "km_driven     object\n",
       "make_year      int32\n",
       "bike_name     object\n",
       "bike_model    object\n",
       "state         object\n",
       "city          object\n",
       "dtype: object"
      ]
     },
     "execution_count": 19,
     "metadata": {},
     "output_type": "execute_result"
    }
   ],
   "source": [
    "hammer.dtypes"
   ]
  },
  {
   "cell_type": "code",
   "execution_count": 20,
   "id": "b3498375",
   "metadata": {},
   "outputs": [],
   "source": [
    "hammer.replace('other brands', 'others', inplace=True)"
   ]
  },
  {
   "cell_type": "code",
   "execution_count": 21,
   "id": "4617f591",
   "metadata": {},
   "outputs": [],
   "source": [
    "axe = hammer.drop_duplicates().reset_index(drop=True)"
   ]
  },
  {
   "cell_type": "code",
   "execution_count": 22,
   "id": "0376e9a6",
   "metadata": {},
   "outputs": [
    {
     "data": {
      "text/html": [
       "<div>\n",
       "<style scoped>\n",
       "    .dataframe tbody tr th:only-of-type {\n",
       "        vertical-align: middle;\n",
       "    }\n",
       "\n",
       "    .dataframe tbody tr th {\n",
       "        vertical-align: top;\n",
       "    }\n",
       "\n",
       "    .dataframe thead th {\n",
       "        text-align: right;\n",
       "    }\n",
       "</style>\n",
       "<table border=\"1\" class=\"dataframe\">\n",
       "  <thead>\n",
       "    <tr style=\"text-align: right;\">\n",
       "      <th></th>\n",
       "      <th>bike_price</th>\n",
       "      <th>km_driven</th>\n",
       "      <th>make_year</th>\n",
       "      <th>bike_name</th>\n",
       "      <th>bike_model</th>\n",
       "      <th>state</th>\n",
       "      <th>city</th>\n",
       "    </tr>\n",
       "  </thead>\n",
       "  <tbody>\n",
       "    <tr>\n",
       "      <th>count</th>\n",
       "      <td>9667</td>\n",
       "      <td>9667</td>\n",
       "      <td>9667.000</td>\n",
       "      <td>9667</td>\n",
       "      <td>9667</td>\n",
       "      <td>9667</td>\n",
       "      <td>9667</td>\n",
       "    </tr>\n",
       "    <tr>\n",
       "      <th>unique</th>\n",
       "      <td>672</td>\n",
       "      <td>1993</td>\n",
       "      <td>NaN</td>\n",
       "      <td>10</td>\n",
       "      <td>60</td>\n",
       "      <td>20</td>\n",
       "      <td>1811</td>\n",
       "    </tr>\n",
       "    <tr>\n",
       "      <th>top</th>\n",
       "      <td>35000</td>\n",
       "      <td>30000</td>\n",
       "      <td>NaN</td>\n",
       "      <td>bajaj</td>\n",
       "      <td>others</td>\n",
       "      <td>chandigarh</td>\n",
       "      <td>delhi</td>\n",
       "    </tr>\n",
       "    <tr>\n",
       "      <th>freq</th>\n",
       "      <td>306</td>\n",
       "      <td>333</td>\n",
       "      <td>NaN</td>\n",
       "      <td>2458</td>\n",
       "      <td>1971</td>\n",
       "      <td>598</td>\n",
       "      <td>503</td>\n",
       "    </tr>\n",
       "    <tr>\n",
       "      <th>mean</th>\n",
       "      <td>NaN</td>\n",
       "      <td>NaN</td>\n",
       "      <td>2014.757</td>\n",
       "      <td>NaN</td>\n",
       "      <td>NaN</td>\n",
       "      <td>NaN</td>\n",
       "      <td>NaN</td>\n",
       "    </tr>\n",
       "    <tr>\n",
       "      <th>std</th>\n",
       "      <td>NaN</td>\n",
       "      <td>NaN</td>\n",
       "      <td>6.096</td>\n",
       "      <td>NaN</td>\n",
       "      <td>NaN</td>\n",
       "      <td>NaN</td>\n",
       "      <td>NaN</td>\n",
       "    </tr>\n",
       "    <tr>\n",
       "      <th>min</th>\n",
       "      <td>NaN</td>\n",
       "      <td>NaN</td>\n",
       "      <td>1900.000</td>\n",
       "      <td>NaN</td>\n",
       "      <td>NaN</td>\n",
       "      <td>NaN</td>\n",
       "      <td>NaN</td>\n",
       "    </tr>\n",
       "    <tr>\n",
       "      <th>25%</th>\n",
       "      <td>NaN</td>\n",
       "      <td>NaN</td>\n",
       "      <td>2012.000</td>\n",
       "      <td>NaN</td>\n",
       "      <td>NaN</td>\n",
       "      <td>NaN</td>\n",
       "      <td>NaN</td>\n",
       "    </tr>\n",
       "    <tr>\n",
       "      <th>50%</th>\n",
       "      <td>NaN</td>\n",
       "      <td>NaN</td>\n",
       "      <td>2016.000</td>\n",
       "      <td>NaN</td>\n",
       "      <td>NaN</td>\n",
       "      <td>NaN</td>\n",
       "      <td>NaN</td>\n",
       "    </tr>\n",
       "    <tr>\n",
       "      <th>75%</th>\n",
       "      <td>NaN</td>\n",
       "      <td>NaN</td>\n",
       "      <td>2019.000</td>\n",
       "      <td>NaN</td>\n",
       "      <td>NaN</td>\n",
       "      <td>NaN</td>\n",
       "      <td>NaN</td>\n",
       "    </tr>\n",
       "    <tr>\n",
       "      <th>max</th>\n",
       "      <td>NaN</td>\n",
       "      <td>NaN</td>\n",
       "      <td>2022.000</td>\n",
       "      <td>NaN</td>\n",
       "      <td>NaN</td>\n",
       "      <td>NaN</td>\n",
       "      <td>NaN</td>\n",
       "    </tr>\n",
       "  </tbody>\n",
       "</table>\n",
       "</div>"
      ],
      "text/plain": [
       "       bike_price km_driven  make_year bike_name bike_model       state  \\\n",
       "count        9667      9667   9667.000      9667       9667        9667   \n",
       "unique        672      1993        NaN        10         60          20   \n",
       "top         35000    30000         NaN     bajaj     others  chandigarh   \n",
       "freq          306       333        NaN      2458       1971         598   \n",
       "mean          NaN       NaN   2014.757       NaN        NaN         NaN   \n",
       "std           NaN       NaN      6.096       NaN        NaN         NaN   \n",
       "min           NaN       NaN   1900.000       NaN        NaN         NaN   \n",
       "25%           NaN       NaN   2012.000       NaN        NaN         NaN   \n",
       "50%           NaN       NaN   2016.000       NaN        NaN         NaN   \n",
       "75%           NaN       NaN   2019.000       NaN        NaN         NaN   \n",
       "max           NaN       NaN   2022.000       NaN        NaN         NaN   \n",
       "\n",
       "          city  \n",
       "count     9667  \n",
       "unique    1811  \n",
       "top      delhi  \n",
       "freq       503  \n",
       "mean       NaN  \n",
       "std        NaN  \n",
       "min        NaN  \n",
       "25%        NaN  \n",
       "50%        NaN  \n",
       "75%        NaN  \n",
       "max        NaN  "
      ]
     },
     "execution_count": 22,
     "metadata": {},
     "output_type": "execute_result"
    }
   ],
   "source": [
    "round(axe.describe(include='all'),3) #.............."
   ]
  },
  {
   "cell_type": "code",
   "execution_count": 23,
   "id": "b6aeefef",
   "metadata": {},
   "outputs": [
    {
     "name": "stdout",
     "output_type": "stream",
     "text": [
      "<class 'pandas.core.frame.DataFrame'>\n",
      "RangeIndex: 9667 entries, 0 to 9666\n",
      "Data columns (total 7 columns):\n",
      " #   Column      Non-Null Count  Dtype \n",
      "---  ------      --------------  ----- \n",
      " 0   bike_price  9667 non-null   object\n",
      " 1   km_driven   9667 non-null   object\n",
      " 2   make_year   9667 non-null   int32 \n",
      " 3   bike_name   9667 non-null   object\n",
      " 4   bike_model  9667 non-null   object\n",
      " 5   state       9667 non-null   object\n",
      " 6   city        9667 non-null   object\n",
      "dtypes: int32(1), object(6)\n",
      "memory usage: 491.0+ KB\n"
     ]
    }
   ],
   "source": [
    "axe.info()"
   ]
  },
  {
   "cell_type": "code",
   "execution_count": 24,
   "id": "572f68a8",
   "metadata": {},
   "outputs": [],
   "source": [
    "def outliers_detect(asgod):\n",
    "    for i in asgod.describe().columns:\n",
    "        q1=asgod.describe().at['25%',i]\n",
    "        q3=asgod.describe().at['75%',i]\n",
    "        IQR=q3-q1\n",
    "        LTV =q1-1.5*IQR\n",
    "        UTV=q3+1.5*IQR\n",
    "        asgod[i]=asgod[i].mask(asgod[i]<LTV,LTV)\n",
    "        asgod[i]=asgod[i].mask(asgod[i]>UTV,UTV)\n",
    "        return asgod\n",
    "    "
   ]
  },
  {
   "cell_type": "code",
   "execution_count": 25,
   "id": "ce6ce133",
   "metadata": {},
   "outputs": [],
   "source": [
    "shield=outliers_detect(axe)"
   ]
  },
  {
   "cell_type": "code",
   "execution_count": 26,
   "id": "425bc93e",
   "metadata": {},
   "outputs": [
    {
     "data": {
      "text/plain": [
       "0       34361.0\n",
       "1        9000.0\n",
       "2       17000.0\n",
       "3       28000.0\n",
       "4       51400.0\n",
       "         ...   \n",
       "9662     1700.0\n",
       "9663    55000.0\n",
       "9664    25000.0\n",
       "9665    15700.0\n",
       "9666    35296.0\n",
       "Name: km_driven, Length: 9667, dtype: float64"
      ]
     },
     "execution_count": 26,
     "metadata": {},
     "output_type": "execute_result"
    }
   ],
   "source": [
    "# sns.boxplot(shield.km_driven)\n",
    "shield['km_driven'].astype(float)"
   ]
  },
  {
   "cell_type": "code",
   "execution_count": 27,
   "id": "89100c7f",
   "metadata": {},
   "outputs": [],
   "source": [
    "shield['km_driven']=shield['km_driven'].astype(float)"
   ]
  },
  {
   "cell_type": "code",
   "execution_count": 28,
   "id": "936cd04a",
   "metadata": {},
   "outputs": [
    {
     "data": {
      "text/plain": [
       "<AxesSubplot:xlabel='km_driven'>"
      ]
     },
     "execution_count": 28,
     "metadata": {},
     "output_type": "execute_result"
    },
    {
     "data": {
      "image/png": "[encoded data removed]",
      "text/plain": [
       "<Figure size 432x288 with 1 Axes>"
      ]
     },
     "metadata": {
      "needs_background": "light"
     },
     "output_type": "display_data"
    }
   ],
   "source": [
    "sns.boxplot(shield.km_driven)"
   ]
  },
  {
   "cell_type": "code",
   "execution_count": 29,
   "id": "f6c3e9e6",
   "metadata": {},
   "outputs": [],
   "source": [
    "shield[\"km_driven\"]=shield[\"km_driven\"].replace([0,23000.0])\n",
    "shield[\"km_driven\"]=shield[\"km_driven\"].replace([1,23000.0])\n",
    "shield[\"km_driven\"]=shield[\"km_driven\"].replace([2,23000.0])\n",
    "shield[\"km_driven\"]=shield[\"km_driven\"].replace([3,23000.0])\n",
    "shield[\"km_driven\"]=shield[\"km_driven\"].replace([4,23000.0])\n",
    "shield[\"km_driven\"]=shield[\"km_driven\"].replace([5,23000.0])\n",
    "shield[\"km_driven\"]=shield[\"km_driven\"].replace([6,23000.0])\n",
    "shield[\"km_driven\"]=shield[\"km_driven\"].replace([7,23000.0])\n",
    "shield[\"km_driven\"]=shield[\"km_driven\"].replace([8,23000.0])\n",
    "shield[\"km_driven\"]=shield[\"km_driven\"].replace([9,23000.0])"
   ]
  },
  {
   "cell_type": "code",
   "execution_count": 30,
   "id": "183853f0",
   "metadata": {},
   "outputs": [
    {
     "data": {
      "text/plain": [
       "bike_price     object\n",
       "km_driven     float64\n",
       "make_year     float64\n",
       "bike_name      object\n",
       "bike_model     object\n",
       "state          object\n",
       "city           object\n",
       "dtype: object"
      ]
     },
     "execution_count": 30,
     "metadata": {},
     "output_type": "execute_result"
    }
   ],
   "source": [
    "shield.dtypes"
   ]
  },
  {
   "cell_type": "code",
   "execution_count": 31,
   "id": "21afc8b6",
   "metadata": {},
   "outputs": [],
   "source": [
    "shield['bike_price']=shield['bike_price'].astype(float)"
   ]
  },
  {
   "cell_type": "code",
   "execution_count": 32,
   "id": "25556b2d",
   "metadata": {},
   "outputs": [
    {
     "data": {
      "image/png": "[encoded data removed]",
      "text/plain": [
       "<Figure size 432x288 with 1 Axes>"
      ]
     },
     "metadata": {
      "needs_background": "light"
     },
     "output_type": "display_data"
    }
   ],
   "source": [
    "sns.distplot(shield[\"km_driven\"])\n",
    "plt.show()"
   ]
  },
  {
   "cell_type": "code",
   "execution_count": 33,
   "id": "ab7b9c35",
   "metadata": {},
   "outputs": [
    {
     "data": {
      "image/png": "[encoded data removed]",
      "text/plain": [
       "<Figure size 1080x648 with 1 Axes>"
      ]
     },
     "metadata": {
      "needs_background": "light"
     },
     "output_type": "display_data"
    }
   ],
   "source": [
    "plt.figure(figsize=(15,9))\n",
    "ax=sns.histplot(x=shield[\"bike_price\"],kde=True,color=\"blue\")\n",
    "ax.lines[0].set_color('crimson')"
   ]
  },
  {
   "cell_type": "code",
   "execution_count": 34,
   "id": "e3e4696f",
   "metadata": {},
   "outputs": [
    {
     "data": {
      "image/png": "[encoded data removed]",
      "text/plain": [
       "<Figure size 1080x648 with 1 Axes>"
      ]
     },
     "metadata": {
      "needs_background": "light"
     },
     "output_type": "display_data"
    }
   ],
   "source": [
    "plt.figure(figsize=(15,9))\n",
    "ax=sns.histplot(x=shield[\"km_driven\"],kde=True,color=\"red\")\n",
    "ax.lines[0].set_color('blue')"
   ]
  },
  {
   "cell_type": "code",
   "execution_count": 35,
   "id": "c6d03fc0",
   "metadata": {},
   "outputs": [
    {
     "data": {
      "image/png": "[encoded data removed]",
      "text/plain": [
       "<Figure size 1080x648 with 1 Axes>"
      ]
     },
     "metadata": {},
     "output_type": "display_data"
    }
   ],
   "source": [
    "plt.figure(figsize=(15,9))\n",
    "h=shield.bike_name.unique()\n",
    "plt.pie(shield.bike_name.value_counts(),labels=h,autopct=\"%1.1f%%\")\n",
    "plt.show()"
   ]
  },
  {
   "cell_type": "code",
   "execution_count": 36,
   "id": "1e0630ae",
   "metadata": {},
   "outputs": [
    {
     "data": {
      "image/png": "[encoded data removed]",
      "text/plain": [
       "<Figure size 1080x648 with 1 Axes>"
      ]
     },
     "metadata": {
      "needs_background": "light"
     },
     "output_type": "display_data"
    }
   ],
   "source": [
    "plt.figure(figsize=(15,9))\n",
    "sns.scatterplot(x=\"km_driven\",y=\"bike_price\",data=shield,style=\"bike_name\",hue=\"bike_name\")\n",
    "plt.show()"
   ]
  },
  {
   "cell_type": "code",
   "execution_count": 37,
   "id": "fdde79cf",
   "metadata": {},
   "outputs": [
    {
     "data": {
      "image/png": "[encoded data removed]",
      "text/plain": [
       "<Figure size 1080x720 with 1 Axes>"
      ]
     },
     "metadata": {
      "needs_background": "light"
     },
     "output_type": "display_data"
    }
   ],
   "source": [
    "plt.figure(figsize = (15,10))\n",
    "a=sns.barplot(y='km_driven',x='state',data=shield,palette='rainbow',)\n",
    "plt.xticks(rotation=90,horizontalalignment='right',fontweight='light')\n",
    "a.tick_params(labelsize=8)\n",
    "plt.show()"
   ]
  },
  {
   "cell_type": "code",
   "execution_count": 38,
   "id": "316c5121",
   "metadata": {},
   "outputs": [
    {
     "data": {
      "image/png": "[encoded data removed]",
      "text/plain": [
       "<Figure size 1080x576 with 1 Axes>"
      ]
     },
     "metadata": {
      "needs_background": "light"
     },
     "output_type": "display_data"
    }
   ],
   "source": [
    "plt.figure(figsize = (15,8))\n",
    "b=sns.barplot(y=\"bike_price\",x='bike_name',data=shield,palette='rainbow')\n",
    "plt.xticks(rotation=90,horizontalalignment='right',fontweight='light')\n",
    "b.tick_params(labelsize=8)\n",
    "plt.show()"
   ]
  },
  {
   "cell_type": "code",
   "execution_count": 39,
   "id": "593cd7b3",
   "metadata": {},
   "outputs": [
    {
     "data": {
      "image/png": "[encoded data removed]",
      "text/plain": [
       "<Figure size 1080x1080 with 1 Axes>"
      ]
     },
     "metadata": {
      "needs_background": "light"
     },
     "output_type": "display_data"
    }
   ],
   "source": [
    "plt.figure(figsize = (15,15))\n",
    "b=sns.barplot(y=\"bike_model\",x='bike_price',data=shield,palette='rainbow')\n",
    "plt.xticks(rotation=90,horizontalalignment='right',fontweight='light')\n",
    "b.tick_params(labelsize=8)\n",
    "plt.show()"
   ]
  },
  {
   "cell_type": "code",
   "execution_count": 40,
   "id": "4c1e3d68",
   "metadata": {},
   "outputs": [
    {
     "data": {
      "image/png": "[encoded data removed]",
      "text/plain": [
       "<Figure size 540x540 with 12 Axes>"
      ]
     },
     "metadata": {
      "needs_background": "light"
     },
     "output_type": "display_data"
    }
   ],
   "source": [
    "sns.pairplot(shield)\n",
    "plt.show()"
   ]
  },
  {
   "cell_type": "markdown",
   "id": "99156c25",
   "metadata": {},
   "source": [
    "### OneHotEncoding"
   ]
  },
  {
   "cell_type": "code",
   "execution_count": 41,
   "id": "90159e51",
   "metadata": {},
   "outputs": [],
   "source": [
    "from sklearn.preprocessing import OneHotEncoder\n",
    "ohe =OneHotEncoder(handle_unknown=\"ignore\",sparse=False)"
   ]
  },
  {
   "cell_type": "code",
   "execution_count": 42,
   "id": "0c74efa2",
   "metadata": {},
   "outputs": [],
   "source": [
    "dino=pd.DataFrame(ohe.fit_transform(shield.iloc[:,3:7]))"
   ]
  },
  {
   "cell_type": "code",
   "execution_count": 43,
   "id": "7f14405b",
   "metadata": {},
   "outputs": [],
   "source": [
    "dino.columns=ohe.get_feature_names_out()"
   ]
  },
  {
   "cell_type": "code",
   "execution_count": 44,
   "id": "60f8e152",
   "metadata": {},
   "outputs": [],
   "source": [
    "tejdata=pd.concat([shield.iloc[:,0:3],dino],axis=1)"
   ]
  },
  {
   "cell_type": "code",
   "execution_count": 45,
   "id": "1a011041",
   "metadata": {},
   "outputs": [
    {
     "data": {
      "text/plain": [
       "['ohe.joblib']"
      ]
     },
     "execution_count": 45,
     "metadata": {},
     "output_type": "execute_result"
    }
   ],
   "source": [
    "import joblib\n",
    "joblib.dump(ohe,'ohe.joblib')"
   ]
  },
  {
   "cell_type": "code",
   "execution_count": 46,
   "id": "ccd3a603",
   "metadata": {},
   "outputs": [],
   "source": [
    "x = tejdata.drop('bike_price',axis=1)"
   ]
  },
  {
   "cell_type": "code",
   "execution_count": 47,
   "id": "004768b4",
   "metadata": {},
   "outputs": [],
   "source": [
    "y=tejdata['bike_price']"
   ]
  },
  {
   "cell_type": "code",
   "execution_count": 48,
   "id": "05f5386c",
   "metadata": {},
   "outputs": [
    {
     "data": {
      "text/plain": [
       "RandomForestRegressor(random_state=0)"
      ]
     },
     "execution_count": 48,
     "metadata": {},
     "output_type": "execute_result"
    }
   ],
   "source": [
    "from sklearn.ensemble import RandomForestRegressor\n",
    "regressor = RandomForestRegressor(n_estimators = 100, random_state = 0)\n",
    "regressor.fit(x, y)"
   ]
  },
  {
   "cell_type": "code",
   "execution_count": 49,
   "id": "64a973fc",
   "metadata": {},
   "outputs": [],
   "source": [
    "from sklearn.model_selection import train_test_split\n",
    "x_train,x_test,y_train,y_test=train_test_split(x,y,train_size=0.7,random_state=39)"
   ]
  },
  {
   "cell_type": "code",
   "execution_count": 50,
   "id": "a802a8a8",
   "metadata": {},
   "outputs": [],
   "source": [
    "# regressor.fit(x_train,y_train)"
   ]
  },
  {
   "cell_type": "code",
   "execution_count": 51,
   "id": "5661af13",
   "metadata": {},
   "outputs": [],
   "source": [
    "y_predic =regressor.predict(x_test)"
   ]
  },
  {
   "cell_type": "code",
   "execution_count": 52,
   "id": "4e950ae7",
   "metadata": {},
   "outputs": [
    {
     "data": {
      "text/plain": [
       "0.9292686820580527"
      ]
     },
     "execution_count": 52,
     "metadata": {},
     "output_type": "execute_result"
    }
   ],
   "source": [
    "regressor.score(x_train,y_train)"
   ]
  },
  {
   "cell_type": "code",
   "execution_count": 53,
   "id": "6342ed70",
   "metadata": {},
   "outputs": [
    {
     "data": {
      "text/plain": [
       "0.9174017131453527"
      ]
     },
     "execution_count": 53,
     "metadata": {},
     "output_type": "execute_result"
    }
   ],
   "source": [
    "regressor.score(x_test,y_test)"
   ]
  },
  {
   "cell_type": "code",
   "execution_count": 54,
   "id": "9d3277b6",
   "metadata": {},
   "outputs": [],
   "source": [
    "train_predict = regressor.predict(x_train)\n",
    "test_predict=regressor.predict(x_test)"
   ]
  },
  {
   "cell_type": "code",
   "execution_count": 55,
   "id": "c07691fe",
   "metadata": {},
   "outputs": [
    {
     "data": {
      "text/plain": [
       "671254766.9961096"
      ]
     },
     "execution_count": 55,
     "metadata": {},
     "output_type": "execute_result"
    }
   ],
   "source": [
    "from sklearn.metrics import mean_squared_error\n",
    "MSE=mean_squared_error(y_test,test_predict)\n",
    "MSE"
   ]
  },
  {
   "cell_type": "code",
   "execution_count": 56,
   "id": "fe19d764",
   "metadata": {},
   "outputs": [
    {
     "name": "stdout",
     "output_type": "stream",
     "text": [
      "rmse :  25908.584813\n"
     ]
    }
   ],
   "source": [
    "rmse = np.sqrt(mean_squared_error(y_test,test_predict))\n",
    "print(\"rmse : % f\" %(rmse))"
   ]
  },
  {
   "cell_type": "code",
   "execution_count": 57,
   "id": "5401d053",
   "metadata": {},
   "outputs": [],
   "source": [
    "z=shield[\"km_driven\"].unique()"
   ]
  },
  {
   "cell_type": "code",
   "execution_count": 58,
   "id": "2c625dfa",
   "metadata": {},
   "outputs": [],
   "source": [
    "### Realtime check"
   ]
  },
  {
   "cell_type": "code",
   "execution_count": 59,
   "id": "a4c37558",
   "metadata": {},
   "outputs": [],
   "source": [
    "check=[[500000,2018,\"royal enfiled\",\"pulsar\",'andharpradesh','nellore']]"
   ]
  },
  {
   "cell_type": "code",
   "execution_count": 60,
   "id": "92385c77",
   "metadata": {},
   "outputs": [],
   "source": [
    "check =pd.DataFrame(check,columns=['km_driven','make_year', 'bike_name', 'bike_model','state', 'city'])"
   ]
  },
  {
   "cell_type": "code",
   "execution_count": 61,
   "id": "366a7cde",
   "metadata": {},
   "outputs": [],
   "source": [
    "ohot = joblib.load('ohe.joblib')"
   ]
  },
  {
   "cell_type": "code",
   "execution_count": 62,
   "id": "98fd0c84",
   "metadata": {},
   "outputs": [],
   "source": [
    "dino = pd.DataFrame(ohot.transform(check.iloc[:,2:6]))"
   ]
  },
  {
   "cell_type": "code",
   "execution_count": 63,
   "id": "a81135b2",
   "metadata": {},
   "outputs": [],
   "source": [
    "dino.columns =ohe.get_feature_names_out()"
   ]
  },
  {
   "cell_type": "code",
   "execution_count": 64,
   "id": "ef872125",
   "metadata": {},
   "outputs": [],
   "source": [
    "check =pd.concat([check.iloc[:,0:2],dino],axis=1)"
   ]
  },
  {
   "cell_type": "code",
   "execution_count": 65,
   "id": "8aa897c7",
   "metadata": {},
   "outputs": [
    {
     "data": {
      "text/plain": [
       "array([65149.9])"
      ]
     },
     "execution_count": 65,
     "metadata": {},
     "output_type": "execute_result"
    }
   ],
   "source": [
    "regressor.predict"
   ]
  },
  {
   "cell_type": "code",
   "execution_count": 66,
   "id": "6187733c",
   "metadata": {},
   "outputs": [
    {
     "data": {
      "text/plain": [
       "['simifinal.pkl']"
      ]
     },
     "execution_count": 66,
     "metadata": {},
     "output_type": "execute_result"
    }
   ],
   "source": [
    "joblib.dump(regressor,'simifinal.pkl')"
   ]
  },
  {
   "cell_type": "code",
   "execution_count": null,
   "id": "f2329dd6",
   "metadata": {},
   "outputs": [],
   "source": []
  }
 ],
 "metadata": {
  "kernelspec": {
   "display_name": "Python 3 (ipykernel)",
   "language": "python",
   "name": "python3"
  },
  "language_info": {
   "codemirror_mode": {
    "name": "ipython",
    "version": 3
   },
   "file_extension": ".py",
   "mimetype": "text/x-python",
   "name": "python",
   "nbconvert_exporter": "python",
   "pygments_lexer": "ipython3",
   "version": "3.9.7"
  }
 },
 "nbformat": 4,
 "nbformat_minor": 5
}
